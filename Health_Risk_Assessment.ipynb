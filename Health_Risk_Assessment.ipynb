{
  "nbformat": 4,
  "nbformat_minor": 0,
  "metadata": {
    "colab": {
      "provenance": [],
      "authorship_tag": "ABX9TyMRwTMJ5XndEXv5JOWdRO2Z"
    },
    "kernelspec": {
      "name": "python3",
      "display_name": "Python 3"
    },
    "language_info": {
      "name": "python"
    }
  },
  "cells": [
    {
      "cell_type": "markdown",
      "source": [
        "1) Importing Libraries"
      ],
      "metadata": {
        "id": "PlMPqoU_n4rT"
      }
    },
    {
      "cell_type": "code",
      "source": [
        "import torch\n",
        "import torch.nn as nn\n",
        "import torch.optim as optim\n",
        "import numpy as np\n",
        "import pandas as pd\n",
        "from sklearn.preprocessing import StandardScaler\n",
        "from sklearn.metrics import mean_squared_error, r2_score\n",
        "import matplotlib.pyplot as plt"
      ],
      "metadata": {
        "id": "c946CUC0q-_j"
      },
      "execution_count": 3,
      "outputs": []
    },
    {
      "cell_type": "markdown",
      "source": [
        "2. Creating dummy dataset"
      ],
      "metadata": {
        "id": "Gu-3FqtOq_0W"
      }
    },
    {
      "cell_type": "code",
      "source": [
        "data = {\n",
        "    'SleepHours': [6, 7, 5, 8, 6, 7, 9, 5, 6, 8, 7, 6, 5, 9],\n",
        "    'DailySteps': [4000, 7000, 3000, 10000, 5000, 6500, 12000, 3500, 4500, 9000, 8000, 5200, 2800, 11000],\n",
        "    'CaloriesIntake': [2500, 2200, 2800, 2000, 2600, 2300, 1900, 3000, 2700, 2100, 2200, 2400, 3100, 2000],\n",
        "    'BMI': [28, 24, 30, 22, 27, 25, 21, 31, 29, 23, 24, 26, 32, 22]\n",
        "}\n",
        "\n",
        "df = pd.DataFrame(data)\n",
        "print(\"Original Dataset:\\n\", df)"
      ],
      "metadata": {
        "colab": {
          "base_uri": "https://localhost:8080/"
        },
        "id": "U2fgZyPtrDkM",
        "outputId": "42946076-89b2-4860-c9ed-4f2ccb26d43d"
      },
      "execution_count": 4,
      "outputs": [
        {
          "output_type": "stream",
          "name": "stdout",
          "text": [
            "Original Dataset:\n",
            "     SleepHours  DailySteps  CaloriesIntake  BMI\n",
            "0            6        4000            2500   28\n",
            "1            7        7000            2200   24\n",
            "2            5        3000            2800   30\n",
            "3            8       10000            2000   22\n",
            "4            6        5000            2600   27\n",
            "5            7        6500            2300   25\n",
            "6            9       12000            1900   21\n",
            "7            5        3500            3000   31\n",
            "8            6        4500            2700   29\n",
            "9            8        9000            2100   23\n",
            "10           7        8000            2200   24\n",
            "11           6        5200            2400   26\n",
            "12           5        2800            3100   32\n",
            "13           9       11000            2000   22\n"
          ]
        }
      ]
    },
    {
      "cell_type": "markdown",
      "source": [
        "3. Visualisation of data"
      ],
      "metadata": {
        "id": "Sq4r9MYLrFt3"
      }
    },
    {
      "cell_type": "code",
      "source": [
        "plt.figure(figsize=(6,4))\n",
        "plt.scatter(df[\"DailySteps\"], df[\"BMI\"], label=\"BMI vs Steps\")\n",
        "plt.xlabel(\"Daily Steps\")\n",
        "plt.ylabel(\"BMI\")\n",
        "plt.title(\"Tiny dataset sample\")\n",
        "plt.show()"
      ],
      "metadata": {
        "colab": {
          "base_uri": "https://localhost:8080/",
          "height": 410
        },
        "id": "xnRhmWwyrJQQ",
        "outputId": "6df800e7-82ec-43ce-aff8-3df5753f6bfc"
      },
      "execution_count": 5,
      "outputs": [
        {
          "output_type": "display_data",
          "data": {
            "text/plain": [
              "<Figure size 600x400 with 1 Axes>"
            ],
            "image/png": "[encoded data removed]"
          },
          "metadata": {}
        }
      ]
    },
    {
      "cell_type": "markdown",
      "source": [
        "4. Normalising features"
      ],
      "metadata": {
        "id": "nLe6zKSNrL_s"
      }
    },
    {
      "cell_type": "code",
      "source": [
        "features = df[['SleepHours', 'DailySteps', 'CaloriesIntake']].values\n",
        "target = df['BMI'].values.reshape(-1, 1)\n",
        "\n",
        "scaler_X = StandardScaler()\n",
        "scaler_y = StandardScaler()\n",
        "\n",
        "X_scaled = scaler_X.fit_transform(features)\n",
        "y_scaled = scaler_y.fit_transform(target)\n",
        "\n",
        "X_tensor = torch.tensor(X_scaled, dtype=torch.float32)\n",
        "y_tensor = torch.tensor(y_scaled, dtype=torch.float32)"
      ],
      "metadata": {
        "id": "4cqp8lfsrQyc"
      },
      "execution_count": 6,
      "outputs": []
    },
    {
      "cell_type": "markdown",
      "source": [
        "5. Defining a minimal linear model"
      ],
      "metadata": {
        "id": "SQNwtYRRrX7z"
      }
    },
    {
      "cell_type": "code",
      "source": [
        "class LinearRegressionModel(nn.Module):\n",
        "    def __init__(self):\n",
        "        super(LinearRegressionModel, self).__init__()\n",
        "        self.linear = nn.Linear(3, 1)  # 3 input features → 1 output\n",
        "    def forward(self, x):\n",
        "        return self.linear(x)\n",
        "\n",
        "model = LinearRegressionModel()\n",
        "criterion = nn.MSELoss()\n",
        "optimizer = optim.Adam(model.parameters(), lr=0.05)"
      ],
      "metadata": {
        "id": "fBLSGZhqrcoW"
      },
      "execution_count": 7,
      "outputs": []
    },
    {
      "cell_type": "markdown",
      "source": [
        "6. Training model"
      ],
      "metadata": {
        "id": "GOGBmw-4rfji"
      }
    },
    {
      "cell_type": "code",
      "source": [
        "losses = []\n",
        "for epoch in range(200):\n",
        "    model.train()\n",
        "    optimizer.zero_grad()\n",
        "    outputs = model(X_tensor)\n",
        "    loss = criterion(outputs, y_tensor)\n",
        "    loss.backward()\n",
        "    optimizer.step()\n",
        "    losses.append(loss.item())\n",
        "\n",
        "# Plot training loss\n",
        "plt.plot(losses)\n",
        "plt.xlabel(\"Epoch\")\n",
        "plt.ylabel(\"MSE Loss\")\n",
        "plt.title(\"Training Loss\")\n",
        "plt.show()"
      ],
      "metadata": {
        "colab": {
          "base_uri": "https://localhost:8080/",
          "height": 472
        },
        "id": "QA2hccTorjEL",
        "outputId": "2175435b-a6d2-4d4c-fc1b-894e876eb58e"
      },
      "execution_count": 8,
      "outputs": [
        {
          "output_type": "display_data",
          "data": {
            "text/plain": [
              "<Figure size 640x480 with 1 Axes>"
            ],
            "image/png": "[encoded data removed]"
          },
          "metadata": {}
        }
      ]
    },
    {
      "cell_type": "markdown",
      "source": [
        "7. Evaluation on the training set (since dataset is tiny)"
      ],
      "metadata": {
        "id": "TAtr72WSroD6"
      }
    },
    {
      "cell_type": "code",
      "source": [
        "model.eval()\n",
        "with torch.no_grad():\n",
        "    y_pred_scaled = model(X_tensor).numpy()\n",
        "\n",
        "# Inverse scaling to get actual BMI predictions\n",
        "y_pred = scaler_y.inverse_transform(y_pred_scaled)\n",
        "y_true = target\n",
        "\n",
        "mse = mean_squared_error(y_true, y_pred)\n",
        "r2 = r2_score(y_true, y_pred)\n",
        "\n",
        "print(f\"Final MSE: {mse:.2f}\")\n",
        "print(f\"R² Score: {r2:.2f}\")"
      ],
      "metadata": {
        "colab": {
          "base_uri": "https://localhost:8080/"
        },
        "id": "0_ioI3OZruYU",
        "outputId": "9dc7d72c-7dbc-43d2-f782-d20a2fa10b4a"
      },
      "execution_count": 9,
      "outputs": [
        {
          "output_type": "stream",
          "name": "stdout",
          "text": [
            "Final MSE: 0.11\n",
            "R² Score: 0.99\n"
          ]
        }
      ]
    },
    {
      "cell_type": "markdown",
      "source": [
        "8. Prediction for new sample data"
      ],
      "metadata": {
        "id": "sxK6BOHMrx9F"
      }
    },
    {
      "cell_type": "code",
      "source": [
        "new_data = np.array([[7, 7000, 2200]])  # Example input\n",
        "new_data_scaled = scaler_X.transform(new_data)\n",
        "new_data_tensor = torch.tensor(new_data_scaled, dtype=torch.float32)\n",
        "\n",
        "with torch.no_grad():\n",
        "    new_pred_scaled = model(new_data_tensor).numpy()\n",
        "    new_pred = scaler_y.inverse_transform(new_pred_scaled)\n",
        "\n",
        "print(f\"Predicted BMI for [7h sleep, 7000 steps, 2200 cal] = {new_pred[0][0]:.2f}\")"
      ],
      "metadata": {
        "colab": {
          "base_uri": "https://localhost:8080/"
        },
        "id": "VDFwK69Lr5ZZ",
        "outputId": "c105f88e-db29-4b88-ac00-7169976d0630"
      },
      "execution_count": 10,
      "outputs": [
        {
          "output_type": "stream",
          "name": "stdout",
          "text": [
            "Predicted BMI for [7h sleep, 7000 steps, 2200 cal] = 24.28\n"
          ]
        }
      ]
    },
    {
      "cell_type": "markdown",
      "source": [
        "9. Health Dashboard (Creative add-on)"
      ],
      "metadata": {
        "id": "H44LhQmQxeny"
      }
    },
    {
      "cell_type": "code",
      "source": [
        "def health_tips(bmi: float) -> str:\n",
        "    if bmi < 18.5:\n",
        "        return (f\"⚠️ Underweight (BMI={new_pred[0][0]:.2f})\\n- Eat nutrient-dense foods\\n- Increase protein & strength training\\n- Consider small frequent meals\")\n",
        "    elif 18.5 <= bmi < 25:\n",
        "        return (f\"✅ Normal weight (BMI={new_pred[0][0]:.2f})\\n- Keep balanced diet\\n- Maintain regular activity & sleep\")\n",
        "    elif 25 <= bmi < 30:\n",
        "        return (f\"⚠️ Overweight (BMI={new_pred[0][0]:.2f})\\n- Reduce processed food\\n- Increase steps & cardio\\n- Watch portions\")\n",
        "    else:\n",
        "        return (f\"❌ Obese (BMI={new_pred[0][0]:.2f})\\n- Consult professional\\n- Favor low-impact cardio\\n- Structured diet plan\")\n",
        "\n",
        "def bmi_dashboard(bmi: float):\n",
        "    colors = [\"#00bfff\", \"#32cd32\", \"#ffcc00\", \"#ff4444\"]\n",
        "    bounds = [0, 18.5, 25, 30, 45]\n",
        "    widths = [bounds[i+1]-bounds[i] for i in range(len(bounds)-1)]\n",
        "    plt.figure(figsize=(8,1.4))\n",
        "    left = 0\n",
        "    for w, c in zip(widths, colors):\n",
        "        plt.barh(0, w, left=left, color=c, edgecolor=\"black\")\n",
        "        left += w\n",
        "    plt.axvline(bmi, color=\"black\", linestyle=\"--\", linewidth=2)\n",
        "    plt.xlim(0,45)\n",
        "    plt.yticks([])\n",
        "    plt.xlabel(\"BMI\")\n",
        "    plt.title(\"📊 BMI Dashboard\")\n",
        "    plt.show()\n",
        "    print(health_tips(bmi))\n",
        "\n",
        "bmi_dashboard(new_pred)"
      ],
      "metadata": {
        "colab": {
          "base_uri": "https://localhost:8080/",
          "height": 264
        },
        "id": "1Abn1KtbxjWn",
        "outputId": "430e6072-484e-4ae3-852f-6b0b574da526"
      },
      "execution_count": 17,
      "outputs": [
        {
          "output_type": "display_data",
          "data": {
            "text/plain": [
              "<Figure size 800x140 with 1 Axes>"
            ],
            "image/png": "[encoded data removed]"
          },
          "metadata": {}
        },
        {
          "output_type": "stream",
          "name": "stdout",
          "text": [
            "✅ Normal weight (BMI=24.28)\n",
            "- Keep balanced diet\n",
            "- Maintain regular activity & sleep\n"
          ]
        }
      ]
    }
  ]
}